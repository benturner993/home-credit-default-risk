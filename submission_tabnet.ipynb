{
 "cells": [
  {
   "cell_type": "code",
   "execution_count": 15,
   "id": "ffc6a113",
   "metadata": {},
   "outputs": [],
   "source": [
    "import pandas as pd\n",
    "import torch\n",
    "import optuna\n",
    "\n",
    "from sklearn.model_selection import KFold\n",
    "from sklearn.model_selection import train_test_split\n",
    "\n",
    "from pytorch_tabnet.tab_model import TabNetRegressor\n",
    "from pytorch_tabnet.tab_model import TabNetClassifier"
   ]
  },
  {
   "cell_type": "code",
   "execution_count": 16,
   "id": "ddabd305",
   "metadata": {},
   "outputs": [],
   "source": [
    "N_ROWS=10000"
   ]
  },
  {
   "cell_type": "code",
   "execution_count": 17,
   "id": "73667fad",
   "metadata": {},
   "outputs": [],
   "source": [
    "df=pd.read_csv('data/application_train.csv', nrows=N_ROWS)"
   ]
  },
  {
   "cell_type": "code",
   "execution_count": 18,
   "id": "3af80c8f",
   "metadata": {},
   "outputs": [],
   "source": [
    "X=df.loc[:, ~df.columns.isin(['TARGET'])]\n",
    "y=df['TARGET'].astype(int)"
   ]
  },
  {
   "cell_type": "code",
   "execution_count": 19,
   "id": "ad4ca1fd",
   "metadata": {},
   "outputs": [],
   "source": [
    "# using the train test split function\n",
    "X_train, X_test,y_train, y_test = train_test_split(X,y,random_state=104,test_size=0.25,shuffle=True)"
   ]
  },
  {
   "cell_type": "code",
   "execution_count": 20,
   "id": "ecf837b7",
   "metadata": {},
   "outputs": [],
   "source": [
    "def ObjectiveR(trial):\n",
    "    \n",
    "    \"\"\"\n",
    "    regression\n",
    "    \"\"\"\n",
    "    mask_type = trial.suggest_categorical(\"mask_type\", [\"entmax\", \"sparsemax\"])\n",
    "    n_da = trial.suggest_int(\"n_da\", 56, 64, step=4)\n",
    "    n_steps = trial.suggest_int(\"n_steps\", 1, 3, step=1)\n",
    "    gamma = trial.suggest_float(\"gamma\", 1., 1.4, step=0.2)\n",
    "    n_shared = trial.suggest_int(\"n_shared\", 1, 3)\n",
    "    lambda_sparse = trial.suggest_float(\"lambda_sparse\", 1e-6, 1e-3, log=True)\n",
    "    tabnet_params = dict(n_d=n_da, n_a=n_da, n_steps=n_steps, gamma=gamma,\n",
    "                     lambda_sparse=lambda_sparse, optimizer_fn=torch.optim.Adam,\n",
    "                     optimizer_params=dict(lr=2e-2, weight_decay=1e-5),\n",
    "                     mask_type=mask_type, n_shared=n_shared,\n",
    "                     scheduler_params=dict(mode=\"min\",\n",
    "                                           patience=trial.suggest_int(\"patienceScheduler\",low=3,high=10), # changing sheduler patience to be lower than early stopping patience \n",
    "                                           min_lr=1e-5,\n",
    "                                           factor=0.5,),\n",
    "                     scheduler_fn=torch.optim.lr_scheduler.ReduceLROnPlateau,\n",
    "                     verbose=0,\n",
    "                     ) #early stopping\n",
    "    kf = KFold(n_splits=5, random_state=42, shuffle=True)\n",
    "    CV_score_array    =[]\n",
    "    for train_index, test_index in kf.split(X):\n",
    "        X_train, X_valid = X[train_index], X[test_index]\n",
    "        y_train, y_valid = y[train_index], y[test_index]\n",
    "        regressor = TabNetRegressor(**tabnet_params)\n",
    "        regressor.fit(X_train=X_train, y_train=y_train,\n",
    "                  eval_set=[(X_valid, y_valid)],\n",
    "                  patience=trial.suggest_int(\"patience\",low=15,high=30), max_epochs=trial.suggest_int('epochs', 1, 100),\n",
    "                  eval_metric=['rmse'])\n",
    "        CV_score_array.append(regressor.best_cost)\n",
    "    avg = np.mean(CV_score_array)\n",
    "    return avg"
   ]
  },
  {
   "cell_type": "code",
   "execution_count": 21,
   "id": "9d763af5",
   "metadata": {},
   "outputs": [],
   "source": [
    "def ObjectiveC(trial):\n",
    "    \n",
    "    \"\"\"\n",
    "    classification\n",
    "    \"\"\"\n",
    "    mask_type = trial.suggest_categorical(\"mask_type\", [\"entmax\", \"sparsemax\"])\n",
    "    n_da = trial.suggest_int(\"n_da\", 56, 64, step=4)\n",
    "    n_steps = trial.suggest_int(\"n_steps\", 1, 3, step=1)\n",
    "    gamma = trial.suggest_float(\"gamma\", 1., 1.4, step=0.2)\n",
    "    n_shared = trial.suggest_int(\"n_shared\", 1, 3)\n",
    "    lambda_sparse = trial.suggest_float(\"lambda_sparse\", 1e-6, 1e-3, log=True)\n",
    "    tabnet_params = dict(n_d=n_da, n_a=n_da, n_steps=n_steps, gamma=gamma,\n",
    "                     lambda_sparse=lambda_sparse, optimizer_fn=torch.optim.Adam,\n",
    "                     optimizer_params=dict(lr=2e-2, weight_decay=1e-5),\n",
    "                     mask_type=mask_type, n_shared=n_shared,\n",
    "                     scheduler_params=dict(mode=\"min\",\n",
    "                                           patience=trial.suggest_int(\"patienceScheduler\",low=3,high=10), # changing sheduler patience to be lower than early stopping patience \n",
    "                                           min_lr=1e-5,\n",
    "                                           factor=0.5,),\n",
    "                     scheduler_fn=torch.optim.lr_scheduler.ReduceLROnPlateau,\n",
    "                     verbose=0,\n",
    "                     ) #early stopping\n",
    "    kf = KFold(n_splits=5, random_state=42, shuffle=True)\n",
    "    CV_score_array    =[]\n",
    "    for train_index, test_index in kf.split(X):\n",
    "        X_train, X_valid = X[train_index], X[test_index]\n",
    "        y_train, y_valid = y[train_index], y[test_index]\n",
    "        classifier = TabNetClassifier(**tabnet_params)\n",
    "        classifier.fit(X_train=X_train, y_train=y_train,\n",
    "                  eval_set=[(X_valid, y_valid)],\n",
    "                  patience=trial.suggest_int(\"patience\",low=15,high=30), max_epochs=trial.suggest_int('epochs', 1, 100),\n",
    "                  eval_metric=['auc'])\n",
    "        CV_score_array.append(classifier.best_cost)\n",
    "    avg = np.mean(CV_score_array)\n",
    "    return avg"
   ]
  },
  {
   "cell_type": "code",
   "execution_count": 22,
   "id": "bd416d87",
   "metadata": {},
   "outputs": [],
   "source": [
    "numeric_feature_mask = X.dtypes!=object\n",
    "numeric_features = X.columns[numeric_feature_mask].tolist()"
   ]
  },
  {
   "cell_type": "code",
   "execution_count": 23,
   "id": "371ff263",
   "metadata": {},
   "outputs": [],
   "source": [
    "x_train=X_train[numeric_features].fillna(0).values\n",
    "x_test=X_test[numeric_features].fillna(0).values"
   ]
  },
  {
   "cell_type": "code",
   "execution_count": 24,
   "id": "ee157c68",
   "metadata": {},
   "outputs": [
    {
     "name": "stderr",
     "output_type": "stream",
     "text": [
      "/Users/Ben/.local/lib/python3.8/site-packages/pytorch_tabnet/abstract_model.py:75: UserWarning: Device used : cpu\n",
      "  warnings.warn(f\"Device used : {self.device}\")\n"
     ]
    },
    {
     "name": "stdout",
     "output_type": "stream",
     "text": [
      "epoch 0  | loss: 0.32575 | val_0_auc: 0.47666 |  0:00:46s\n",
      "epoch 10 | loss: 0.2811  | val_0_auc: 0.54913 |  0:08:05s\n",
      "\n",
      "Early stopping occurred at epoch 12 with best_epoch = 7 and best_val_0_auc = 0.58946\n"
     ]
    },
    {
     "name": "stderr",
     "output_type": "stream",
     "text": [
      "/Users/Ben/.local/lib/python3.8/site-packages/pytorch_tabnet/callbacks.py:172: UserWarning: Best weights from best epoch are automatically used!\n",
      "  warnings.warn(wrn_msg)\n"
     ]
    }
   ],
   "source": [
    "classifier = TabNetClassifier(verbose=10,seed=42)\n",
    "classifier.fit(X_train=x_train, y_train=y_train, eval_set=[(x_test, y_test)],\n",
    "               patience=5,max_epochs=40, eval_metric=['auc'], batch_size=2)"
   ]
  },
  {
   "cell_type": "code",
   "execution_count": 25,
   "id": "55036919",
   "metadata": {},
   "outputs": [],
   "source": [
    "# don't have enough cpu or memory to run this on my computer\n",
    "# study = optuna.create_study(direction=\"minimize\", study_name='TabNet optimization')\n",
    "# study.optimize(Objective, timeout=6*1) #6 mins"
   ]
  },
  {
   "cell_type": "code",
   "execution_count": 26,
   "id": "61c8dc92",
   "metadata": {},
   "outputs": [
    {
     "name": "stderr",
     "output_type": "stream",
     "text": [
      "<ipython-input-26-0083d21c322b>:6: SettingWithCopyWarning: \n",
      "A value is trying to be set on a copy of a slice from a DataFrame.\n",
      "Try using .loc[row_indexer,col_indexer] = value instead\n",
      "\n",
      "See the caveats in the documentation: https://pandas.pydata.org/pandas-docs/stable/user_guide/indexing.html#returning-a-view-versus-a-copy\n",
      "  submission_df['TARGET']=classifier.predict(X_val)\n"
     ]
    }
   ],
   "source": [
    "# scoring on test dataset\n",
    "test_df=pd.read_csv('data/application_test.csv')\n",
    "\n",
    "X_val=test_df[numeric_features].fillna(0).values\n",
    "submission_df=test_df[['SK_ID_CURR']]\n",
    "submission_df['TARGET']=classifier.predict(X_val)\n",
    "submission_df.to_csv('submission.csv', index=False)"
   ]
  },
  {
   "cell_type": "code",
   "execution_count": 27,
   "id": "d2856db1",
   "metadata": {},
   "outputs": [
    {
     "data": {
      "text/plain": [
       "101"
      ]
     },
     "execution_count": 27,
     "metadata": {},
     "output_type": "execute_result"
    }
   ],
   "source": [
    "submission_df['TARGET'].sum()"
   ]
  },
  {
   "cell_type": "code",
   "execution_count": null,
   "id": "dc0be3ab",
   "metadata": {},
   "outputs": [],
   "source": []
  }
 ],
 "metadata": {
  "kernelspec": {
   "display_name": "Python 3",
   "language": "python",
   "name": "python3"
  },
  "language_info": {
   "codemirror_mode": {
    "name": "ipython",
    "version": 3
   },
   "file_extension": ".py",
   "mimetype": "text/x-python",
   "name": "python",
   "nbconvert_exporter": "python",
   "pygments_lexer": "ipython3",
   "version": "3.8.8"
  }
 },
 "nbformat": 4,
 "nbformat_minor": 5
}
